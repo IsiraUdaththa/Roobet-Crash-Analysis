{
 "cells": [
  {
   "cell_type": "code",
   "execution_count": 32,
   "outputs": [],
   "source": [
    "import pandas as pd\n",
    "from tqdm import tqdm\n",
    "\n",
    "import crash\n"
   ],
   "metadata": {
    "collapsed": false
   }
  },
  {
   "cell_type": "code",
   "execution_count": 51,
   "outputs": [
    {
     "name": "stderr",
     "output_type": "stream",
     "text": [
      "100%|██████████| 618990/618990 [00:03<00:00, 160146.37it/s]\n"
     ]
    }
   ],
   "source": [
    "game_hash = \"100af1b49f5e9f87efc81f838bf9b1f5e38293e5b4cf6d0b366c004e0a8d9987\"\n",
    "first_game = \"77b271fe12fca03c618f63dfb79d4105726ba9d4a25bb3f1964e435ccf9cb209\"\n",
    "\n",
    "results = []\n",
    "hashes = []\n",
    "\n",
    "with tqdm(total=618990) as pbar:\n",
    "    while game_hash != first_game:\n",
    "        hashes.append(game_hash)\n",
    "        results.append(crash.get_crash_point(game_hash))\n",
    "        game_hash = crash.get_prev_game(game_hash)\n",
    "        pbar.update(1)\n",
    "    hashes.append(game_hash)\n",
    "    results.append(crash.get_crash_point(game_hash))\n",
    "    game_hash = crash.get_prev_game(game_hash)"
   ],
   "metadata": {
    "collapsed": false
   }
  },
  {
   "cell_type": "code",
   "execution_count": 66,
   "outputs": [],
   "source": [
    "dict = {'hash': hashes,\n",
    "        'multiplier': results\n",
    "        }\n",
    "\n",
    "df = pd.DataFrame(dict)\n",
    "\n",
    "df.to_csv('data/2021.csv')"
   ],
   "metadata": {
    "collapsed": false
   }
  },
  {
   "cell_type": "code",
   "execution_count": 65,
   "outputs": [
    {
     "data": {
      "text/plain": "                                                     hash  multiplier\n618986  977676f7c86cd89e07188bfe6a55cbb839a33da3e41b54...        1.06\n618987  1a4e71bfc962ccb444222e7e1d12aead59e5d3bd024913...        1.10\n618988  d6d68b8cd80587ed514ffaa865cbb853e58d48f69b441c...        6.55\n618989  ebc18bd4816c58141ff974c25b3ee33a7cc3d4368bab36...        2.80\n618990  77b271fe12fca03c618f63dfb79d4105726ba9d4a25bb3...        1.00",
      "text/html": "<div>\n<style scoped>\n    .dataframe tbody tr th:only-of-type {\n        vertical-align: middle;\n    }\n\n    .dataframe tbody tr th {\n        vertical-align: top;\n    }\n\n    .dataframe thead th {\n        text-align: right;\n    }\n</style>\n<table border=\"1\" class=\"dataframe\">\n  <thead>\n    <tr style=\"text-align: right;\">\n      <th></th>\n      <th>hash</th>\n      <th>multiplier</th>\n    </tr>\n  </thead>\n  <tbody>\n    <tr>\n      <th>618986</th>\n      <td>977676f7c86cd89e07188bfe6a55cbb839a33da3e41b54...</td>\n      <td>1.06</td>\n    </tr>\n    <tr>\n      <th>618987</th>\n      <td>1a4e71bfc962ccb444222e7e1d12aead59e5d3bd024913...</td>\n      <td>1.10</td>\n    </tr>\n    <tr>\n      <th>618988</th>\n      <td>d6d68b8cd80587ed514ffaa865cbb853e58d48f69b441c...</td>\n      <td>6.55</td>\n    </tr>\n    <tr>\n      <th>618989</th>\n      <td>ebc18bd4816c58141ff974c25b3ee33a7cc3d4368bab36...</td>\n      <td>2.80</td>\n    </tr>\n    <tr>\n      <th>618990</th>\n      <td>77b271fe12fca03c618f63dfb79d4105726ba9d4a25bb3...</td>\n      <td>1.00</td>\n    </tr>\n  </tbody>\n</table>\n</div>"
     },
     "execution_count": 65,
     "metadata": {},
     "output_type": "execute_result"
    }
   ],
   "source": [
    "df.tail()"
   ],
   "metadata": {
    "collapsed": false
   }
  },
  {
   "cell_type": "code",
   "execution_count": 63,
   "outputs": [
    {
     "data": {
      "text/plain": "(1, '08e1fd4b1fa8f6c142da70c00146edead85b403237c7958af6e4db9469b87d9e')"
     },
     "execution_count": 63,
     "metadata": {},
     "output_type": "execute_result"
    }
   ],
   "source": [
    "crash.get_results_game(first_game)"
   ],
   "metadata": {
    "collapsed": false
   }
  },
  {
   "cell_type": "code",
   "execution_count": 67,
   "outputs": [],
   "source": [
    "def prob_losing_theoretical(multiplier):\n",
    "    return 1/20 + (19/20)*(.01 + .99*(1 - 1/multiplier))\n",
    "\n",
    "def prob_losing_practical(results, multiplier):\n",
    "    return (results <= multiplier).mean()\n",
    "\n",
    "def prob_winning_theoretical(multiplier):\n",
    "    return 1-prob_losing_theoretical(multiplier)\n",
    "\n",
    "def prob_winning_practical(results, multiplier):\n",
    "    return 1-(results <= multiplier).mean()\n",
    "\n",
    "def expected_value_practical(results, multiplier):\n",
    "    return -1*prob_losing_practical(results,multiplier) + 1*prob_winning_practical(results,multiplier)\n",
    "\n",
    "def expected_value_theoretical(multiplier):\n",
    "    return -1*prob_losing_theoretical(multiplier) + 1*prob_winning_theoretical(multiplier)"
   ],
   "metadata": {
    "collapsed": false
   }
  },
  {
   "cell_type": "code",
   "execution_count": 68,
   "outputs": [
    {
     "name": "stdout",
     "output_type": "stream",
     "text": [
      "Probability of Losing 1 Game(s) in a Row: 0.5269705052254394\n",
      "Probability of Losing 2 Game(s) in a Row: 0.2774499144575608\n",
      "Probability of Losing 3 Game(s) in a Row: 0.14591003746419576\n",
      "Probability of Losing 4 Game(s) in a Row: 0.0770091972258078\n",
      "Probability of Losing 5 Game(s) in a Row: 0.04046585491549958\n",
      "Probability of Losing 6 Game(s) in a Row: 0.0211069304723332\n",
      "Probability of Losing 7 Game(s) in a Row: 0.011006622067202916\n",
      "Probability of Losing 8 Game(s) in a Row: 0.005720600137966465\n",
      "Probability of Losing 9 Game(s) in a Row: 0.0029402689215190527\n",
      "Probability of Losing 10 Game(s) in a Row: 0.001512138302495513\n",
      "Probability of Losing 11 Game(s) in a Row: 0.0007673778778689835\n",
      "Probability of Losing 12 Game(s) in a Row: 0.00039257436699402737\n",
      "Probability of Losing 13 Game(s) in a Row: 0.00018093962593963402\n"
     ]
    }
   ],
   "source": [
    "import numpy as np\n",
    "\n",
    "negatives = []\n",
    "in_a_row = 0\n",
    "for multiplier in results:\n",
    "    if multiplier < 2:\n",
    "        in_a_row += 1\n",
    "    else:\n",
    "        in_a_row = 0\n",
    "    negatives.append(in_a_row)\n",
    "negatives = np.array(negatives)\n",
    "\n",
    "for i in range(1, 14):\n",
    "    print(\"Probability of Losing %d Game(s) in a Row:\"%i, (negatives >= i).mean())"
   ],
   "metadata": {
    "collapsed": false
   }
  },
  {
   "cell_type": "code",
   "execution_count": 72,
   "outputs": [
    {
     "ename": "ValueError",
     "evalue": "operands could not be broadcast together with shapes (618991,) (0,) ",
     "output_type": "error",
     "traceback": [
      "\u001B[1;31m---------------------------------------------------------------------------\u001B[0m",
      "\u001B[1;31mValueError\u001B[0m                                Traceback (most recent call last)",
      "Cell \u001B[1;32mIn[72], line 1\u001B[0m\n\u001B[1;32m----> 1\u001B[0m (\u001B[43mnegatives\u001B[49m\u001B[43m \u001B[49m\u001B[38;5;241;43m>\u001B[39;49m\u001B[38;5;241;43m=\u001B[39;49m\u001B[43m \u001B[49m\u001B[43mnp\u001B[49m\u001B[38;5;241;43m.\u001B[39;49m\u001B[43marange\u001B[49m\u001B[43m(\u001B[49m\u001B[38;5;241;43m618991\u001B[39;49m\u001B[43m,\u001B[49m\u001B[38;5;241;43m5\u001B[39;49m\u001B[43m)\u001B[49m)\u001B[38;5;241m.\u001B[39mmean()\n",
      "\u001B[1;31mValueError\u001B[0m: operands could not be broadcast together with shapes (618991,) (0,) "
     ]
    }
   ],
   "source": [
    "(negatives >= np.as.mean()"
   ],
   "metadata": {
    "collapsed": false
   }
  },
  {
   "cell_type": "code",
   "execution_count": 78,
   "outputs": [
    {
     "data": {
      "text/plain": "array([ 5, 10, 15, 20, 25])"
     },
     "execution_count": 78,
     "metadata": {},
     "output_type": "execute_result"
    }
   ],
   "source": [
    "np.arange(1,6)*5"
   ],
   "metadata": {
    "collapsed": false
   }
  },
  {
   "cell_type": "code",
   "execution_count": null,
   "outputs": [],
   "source": [],
   "metadata": {
    "collapsed": false
   }
  }
 ],
 "metadata": {
  "kernelspec": {
   "display_name": "Python 3",
   "language": "python",
   "name": "python3"
  },
  "language_info": {
   "codemirror_mode": {
    "name": "ipython",
    "version": 2
   },
   "file_extension": ".py",
   "mimetype": "text/x-python",
   "name": "python",
   "nbconvert_exporter": "python",
   "pygments_lexer": "ipython2",
   "version": "2.7.6"
  }
 },
 "nbformat": 4,
 "nbformat_minor": 0
}
